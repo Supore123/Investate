{
 "cells": [
  {
   "cell_type": "code",
   "execution_count": 5,
   "id": "0538d8d4",
   "metadata": {},
   "outputs": [
    {
     "name": "stdout",
     "output_type": "stream",
     "text": [
      "Requirement already satisfied: pandas in /opt/anaconda3/envs/daps/lib/python3.11/site-packages (2.3.3)\n",
      "Requirement already satisfied: numpy>=1.23.2 in /opt/anaconda3/envs/daps/lib/python3.11/site-packages (from pandas) (2.3.3)\n",
      "Requirement already satisfied: python-dateutil>=2.8.2 in /opt/anaconda3/envs/daps/lib/python3.11/site-packages (from pandas) (2.9.0.post0)\n",
      "Requirement already satisfied: pytz>=2020.1 in /opt/anaconda3/envs/daps/lib/python3.11/site-packages (from pandas) (2025.2)\n",
      "Requirement already satisfied: tzdata>=2022.7 in /opt/anaconda3/envs/daps/lib/python3.11/site-packages (from pandas) (2025.2)\n",
      "Requirement already satisfied: six>=1.5 in /opt/anaconda3/envs/daps/lib/python3.11/site-packages (from python-dateutil>=2.8.2->pandas) (1.17.0)\n",
      "Requirement already satisfied: numpy in /opt/anaconda3/envs/daps/lib/python3.11/site-packages (2.3.3)\n"
     ]
    }
   ],
   "source": [
    "! pip install pandas\n",
    "! pip install numpy\n",
    "! pip install joblib"
   ]
  },
  {
   "cell_type": "code",
   "execution_count": 1,
   "id": "1e73608e",
   "metadata": {},
   "outputs": [],
   "source": [
    "import pandas as pd\n",
    "import numpy as np\n",
    "from sklearn.model_selection import train_test_split\n",
    "from sklearn.compose import ColumnTransformer\n",
    "from sklearn.preprocessing import OneHotEncoder, StandardScaler\n",
    "from sklearn.pipeline import Pipeline\n",
    "from sklearn.ensemble import RandomForestClassifier\n",
    "from sklearn.metrics import accuracy_score, f1_score, classification_report, roc_auc_score\n",
    "import joblib\n",
    "from pathlib import Path"
   ]
  },
  {
   "cell_type": "code",
   "execution_count": 2,
   "id": "6992dec8",
   "metadata": {},
   "outputs": [
    {
     "name": "stdout",
     "output_type": "stream",
     "text": [
      "Reading: /Users/selen/Downloads/pp-2025.csv\n",
      "Loaded rows: 376633\n"
     ]
    }
   ],
   "source": [
    "files = [\n",
    "#   \"/Users/selen/Downloads/pp-2023.csv\",\n",
    "#   \"/Users/selen/Downloads/pp-2024.csv\",\n",
    "    \"/Users/selen/Downloads/pp-2025.csv\",\n",
    "]\n",
    "\n",
    "colnames = [\n",
    "    \"TransactionID\",\"Price\",\"Date\",\"Postcode\",\"PropertyType\",\"OldNew\",\"Duration\",\n",
    "    \"PAON\",\"SAON\",\"Street\",\"Locality\",\"TownCity\",\"District\",\"County\",\n",
    "    \"PPDCategoryType\",\"RecordStatus\"\n",
    "]\n",
    "\n",
    "dfs = []\n",
    "for f in files:\n",
    "    print(\"Reading:\", f)\n",
    "    df_i = pd.read_csv(f, header=None, names=colnames, low_memory=False)\n",
    "    dfs.append(df_i)\n",
    "\n",
    "df = pd.concat(dfs, ignore_index=True)\n",
    "print(\"Loaded rows:\", len(df))\n"
   ]
  },
  {
   "cell_type": "code",
   "execution_count": 3,
   "id": "23e60fda",
   "metadata": {},
   "outputs": [],
   "source": [
    "# ==== A. data clearning ====\n",
    "df[\"Date\"] = pd.to_datetime(df[\"Date\"], errors=\"coerce\")\n",
    "df = df.dropna(subset=[\"Date\",\"Price\",\"Postcode\"])\n",
    "df = df[df[\"Price\"] > 0]"
   ]
  },
  {
   "cell_type": "code",
   "execution_count": 4,
   "id": "b9d512d5",
   "metadata": {},
   "outputs": [
    {
     "name": "stdout",
     "output_type": "stream",
     "text": [
      "monthly shape: (91266, 8)\n",
      "top outward codes: {'PR7': 92, 'WN2': 91, 'WA8': 87, 'PR2': 86, 'M24': 85, 'NE28': 84, 'WA4': 84, 'BL1': 83, 'SK14': 83, 'WN7': 83}\n"
     ]
    }
   ],
   "source": [
    "# ==== B. Aggregate to Postcode by Month retaining many categorical features ====\n",
    "df[\"Date\"] = pd.to_datetime(df[\"Date\"], errors=\"coerce\")\n",
    "df = df.dropna(subset=[\"Date\",\"Price\",\"Postcode\"])\n",
    "df = df[df[\"Price\"] > 0]\n",
    "df[\"YearMonth\"] = df[\"Date\"].dt.to_period(\"M\").astype(str)\n",
    "\n",
    "# Extract outward code only, standardize case and spaces\n",
    "pc = df[\"Postcode\"].astype(str).str.upper().str.strip()\n",
    "pc = pc.str.replace(r\"\\s+\", \" \", regex=True)      # Collapse multiple spaces into one\n",
    "df[\"PostcodePrefix\"] = pc.str.split(\" \").str[0]   # eg. SW7 7YH -> \"SW7\"\n",
    "\n",
    "# Use regex for the few samples with no space\n",
    "mask_no_space = ~pc.str.contains(\" \")\n",
    "df.loc[mask_no_space, \"PostcodePrefix\"] = pc[mask_no_space].str.extract(r\"^([A-Z]{1,2}\\d{1,2}[A-Z]?)\", expand=False)\n",
    "\n",
    "# Grouping columns, use outward code for area; keep sub categories for others\n",
    "group_cols = [\"PostcodePrefix\", \"YearMonth\", \"PropertyType\", \"OldNew\", \"Duration\",\n",
    "              \"PPDCategoryType\"]  # Exclude Town District County from grouping for now, use as features later\n",
    "\n",
    "monthly = (\n",
    "    df.groupby(group_cols, dropna=False)\n",
    "      .agg(avg_price=(\"Price\",\"mean\"),\n",
    "           n_tx=(\"Price\",\"count\"))\n",
    "      .reset_index()\n",
    ")\n",
    "\n",
    "#Quick check \n",
    "print(\"monthly shape:\", monthly.shape)\n",
    "print(\"top outward codes:\", monthly[\"PostcodePrefix\"].value_counts().head(10).to_dict())"
   ]
  },
  {
   "cell_type": "code",
   "execution_count": 5,
   "id": "40405856",
   "metadata": {},
   "outputs": [
    {
     "name": "stdout",
     "output_type": "stream",
     "text": [
      "D done:   PostcodePrefix YearMonth      avg_price  prev_avg_price  mom_change  trend\n",
      "0            AL1   2025-01  307830.315789   825000.000000   -0.626872      0\n",
      "1            AL1   2025-01  373250.000000   307830.315789    0.212519      1\n",
      "2            AL1   2025-01  828333.333333   373250.000000    1.219245      1\n",
      "3            AL1   2025-01  636898.555556   828333.333333   -0.231108      0\n",
      "4            AL1   2025-01  340000.000000   636898.555556   -0.466163      0\n"
     ]
    }
   ],
   "source": [
    "# ==== C. Create labels: Calculate month over month change for each outward code prefix ====\n",
    "monthly = monthly.sort_values([\"PostcodePrefix\", \"YearMonth\"])\n",
    "\n",
    "# Previous month average price, take previous period within the same outward code\n",
    "monthly[\"prev_avg_price\"] = (\n",
    "    monthly.groupby(\"PostcodePrefix\")[\"avg_price\"].shift(1)\n",
    ")\n",
    "\n",
    "#Last month's trading volume, take the previous period within the same external code\n",
    "monthly[\"prev_n_tx\"] = (\n",
    "    monthly.groupby(\"PostcodePrefix\")[\"n_tx\"].shift(1)\n",
    ")\n",
    "\n",
    "# Month over month change ratio\n",
    "monthly[\"mom_change\"] = (\n",
    "    (monthly[\"avg_price\"] - monthly[\"prev_avg_price\"]) / monthly[\"prev_avg_price\"]\n",
    ")\n",
    "\n",
    "# Remove data that has no previous period\n",
    "monthly = monthly.dropna(subset=[\"prev_avg_price\", \"prev_n_tx\"]).reset_index(drop=True)\n",
    "\n",
    "# Up down label: Up 1, Down 0\n",
    "monthly[\"trend\"] = (monthly[\"mom_change\"] > 0).astype(int)\n",
    "\n",
    "# Month numerical feature\n",
    "monthly[\"month\"] = monthly[\"YearMonth\"].str[-2:].astype(int)\n",
    "\n",
    "# quick check\n",
    "print(\"D done:\", monthly[[\"PostcodePrefix\",\"YearMonth\",\"avg_price\",\"prev_avg_price\",\"mom_change\",\"trend\"]].head())"
   ]
  },
  {
   "cell_type": "code",
   "execution_count": 6,
   "id": "cafa087e",
   "metadata": {},
   "outputs": [
    {
     "name": "stdout",
     "output_type": "stream",
     "text": [
      "E-section ready. X shape: (88984, 8)  | min_frequency used: 1779\n"
     ]
    }
   ],
   "source": [
    "# ==== D. Build features and encoder ====\n",
    "\n",
    "# Numerical and categorical features\n",
    "num_feats  = [\"prev_avg_price\", \"prev_n_tx\", \"month\"]\n",
    "cat_small  = [\"PropertyType\", \"OldNew\", \"Duration\", \"PPDCategoryType\"]   # 小基数：完整 one-hot\n",
    "cat_big    = [\"PostcodePrefix\"]  # Large cardinality: use outward code only for now; add District Town later if needed\n",
    "\n",
    "# Training data matrix\n",
    "X = monthly[num_feats + cat_small + cat_big].copy()\n",
    "y = monthly[\"trend\"].astype(int)\n",
    "\n",
    "# Dynamic low frequency threshold: >= 200 occurrences or >= 2% (take the larger one)\n",
    "mf = max(200, int(0.02 * len(X)))\n",
    "\n",
    "# Encoder: Standardize numerical; full one hot for small categories; merge low frequency and sparse output for large categories\n",
    "pre = ColumnTransformer([\n",
    "    (\"num\",       StandardScaler(), num_feats),\n",
    "    (\"cat_small\", OneHotEncoder(handle_unknown=\"ignore\",\n",
    "                                sparse_output=True),                   cat_small),\n",
    "    (\"cat_big\",   OneHotEncoder(handle_unknown=\"infrequent_if_exist\",\n",
    "                                min_frequency=mf,  # Merge low frequency into infrequent bucket\n",
    "                                sparse_output=True),                   cat_big)\n",
    "])\n",
    "\n",
    "print(\"E-section ready. X shape:\", X.shape, \" | min_frequency used:\", mf)"
   ]
  },
  {
   "cell_type": "code",
   "execution_count": 7,
   "id": "f4655972",
   "metadata": {},
   "outputs": [
    {
     "name": "stdout",
     "output_type": "stream",
     "text": [
      "Train samples: 70469 | Test samples: 18515 | Train months: 6 / 8\n"
     ]
    }
   ],
   "source": [
    "# ==== E. Time split: Sort by month, first 80% for training, last 20% for testing ====\n",
    "all_months = sorted(monthly[\"YearMonth\"].unique())\n",
    "cut = int(len(all_months) * 0.8)\n",
    "\n",
    "train_months = set(all_months[:cut])\n",
    "is_train = monthly[\"YearMonth\"].isin(train_months)\n",
    "\n",
    "X_train, y_train = X[is_train], y[is_train]\n",
    "X_test,  y_test  = X[~is_train], y[~is_train]\n",
    "\n",
    "print(f\"Train samples: {len(X_train)} | Test samples: {len(X_test)} | Train months: {len(train_months)} / {len(all_months)}\")"
   ]
  },
  {
   "cell_type": "code",
   "execution_count": 8,
   "id": "68b36b2b",
   "metadata": {},
   "outputs": [
    {
     "name": "stdout",
     "output_type": "stream",
     "text": [
      "min_frequency used: 3523\n"
     ]
    }
   ],
   "source": [
    "# ==== F. Set low frequency threshold using training set size + saga logistic regression ====\n",
    "\n",
    "# Reset low frequency merge threshold using training set size\n",
    "mf = max(500, int(0.05 * len(X_train)))   # Was max(200, 0.02N) -> max(500, 0.05N)\n",
    "print(\"min_frequency used:\", mf)\n",
    "\n",
    "# Rebuild the encoder ensuring threshold is based on training set\n",
    "pre = ColumnTransformer([\n",
    "    (\"num\",       StandardScaler(), num_feats),\n",
    "    (\"cat_small\", OneHotEncoder(handle_unknown=\"ignore\",\n",
    "                                sparse_output=True),\n",
    "                                cat_small),\n",
    "    (\"cat_big\",   OneHotEncoder(handle_unknown=\"infrequent_if_exist\",\n",
    "                                min_frequency=mf,\n",
    "                                sparse_output=True),                   \n",
    "                                cat_big)\n",
    "])\n",
    "\n",
    "# Model: saga logistic regression\n",
    "from sklearn.linear_model import LogisticRegression\n",
    "\n",
    "pipe = Pipeline([\n",
    "    (\"prep\", pre),\n",
    "    (\"clf\", LogisticRegression(\n",
    "        solver=\"saga\",\n",
    "        penalty=\"l2\",\n",
    "        C=0.5,          # Stronger regularization\n",
    "        max_iter=600,  \n",
    "        tol=1e-3,       # Loosen convergence tolerance\n",
    "        class_weight=\"balanced\",\n",
    "        n_jobs=-1,\n",
    "        random_state=42\n",
    "    ))\n",
    "])"
   ]
  },
  {
   "cell_type": "code",
   "execution_count": 9,
   "id": "efbf3340",
   "metadata": {},
   "outputs": [
    {
     "name": "stdout",
     "output_type": "stream",
     "text": [
      "fit done in 73.7s\n"
     ]
    }
   ],
   "source": [
    "# Fit data\n",
    "import time\n",
    "t0 = time.time()\n",
    "pipe.fit(X_train, y_train)\n",
    "print(f\"fit done in {time.time()-t0:.1f}s\")"
   ]
  },
  {
   "cell_type": "code",
   "execution_count": 10,
   "id": "926000fd",
   "metadata": {},
   "outputs": [
    {
     "name": "stdout",
     "output_type": "stream",
     "text": [
      "Accuracy: 0.79\n",
      "F1: 0.7836\n",
      "AUC: 0.8793\n"
     ]
    }
   ],
   "source": [
    "# ==== G. Evaluate ====\n",
    "pred  = pipe.predict(X_test)\n",
    "proba = pipe.predict_proba(X_test)[:, 1]\n",
    "\n",
    "from sklearn.metrics import accuracy_score, f1_score, roc_auc_score, confusion_matrix, ConfusionMatrixDisplay\n",
    "print(\"Accuracy:\", round(accuracy_score(y_test, pred), 4))\n",
    "print(\"F1:\",       round(f1_score(y_test, pred), 4))\n",
    "try:\n",
    "    print(\"AUC:\",  round(roc_auc_score(y_test, proba), 4))\n",
    "except: pass\n"
   ]
  },
  {
   "cell_type": "code",
   "execution_count": 11,
   "id": "86be2fc1",
   "metadata": {},
   "outputs": [
    {
     "data": {
      "image/png": "[encoded data removed]",
      "text/plain": [
       "<Figure size 640x480 with 2 Axes>"
      ]
     },
     "metadata": {},
     "output_type": "display_data"
    },
    {
     "data": {
      "image/png": "[encoded data removed]",
      "text/plain": [
       "<Figure size 640x480 with 1 Axes>"
      ]
     },
     "metadata": {},
     "output_type": "display_data"
    }
   ],
   "source": [
    "# plot graph\n",
    "import matplotlib.pyplot as plt\n",
    "\n",
    "from sklearn.metrics import confusion_matrix, ConfusionMatrixDisplay, RocCurveDisplay\n",
    "\n",
    "ConfusionMatrixDisplay(confusion_matrix(y_test, pred, labels=[0,1]))\\\n",
    "    .plot(values_format=\"d\")\n",
    "plt.title(\"Trend — Confusion Matrix\")\n",
    "plt.tight_layout(); plt.show()\n",
    "\n",
    "RocCurveDisplay.from_predictions(y_test, proba)\n",
    "plt.title(\"ROC Curve\")\n",
    "plt.tight_layout(); plt.show()\n"
   ]
  },
  {
   "cell_type": "code",
   "execution_count": 12,
   "id": "97e7a696",
   "metadata": {},
   "outputs": [
    {
     "name": "stdout",
     "output_type": "stream",
     "text": [
      " Train | Acc: 0.7773  F1: 0.7586  AUC: 0.8548  | size=70469\n",
      "  Test | Acc: 0.7900  F1: 0.7836  AUC: 0.8793  | size=18515\n",
      "\n",
      "Label balance -> Train: {0: 38602, 1: 31867} | Test: {0: 9875, 1: 8640}\n"
     ]
    }
   ],
   "source": [
    "# === H. Quick overfitting check: Train vs Test metrics ===\n",
    "def eval_split(name, y_true, pred, proba):\n",
    "    from sklearn.metrics import accuracy_score, f1_score, roc_auc_score\n",
    "    acc = accuracy_score(y_true, pred)\n",
    "    f1  = f1_score(y_true, pred)\n",
    "    try:\n",
    "        auc = roc_auc_score(y_true, proba)\n",
    "    except Exception:\n",
    "        auc = float('nan')\n",
    "    print(f\"{name:>6} | Acc: {acc:.4f}  F1: {f1:.4f}  AUC: {auc:.4f}  | size={len(y_true)}\")\n",
    "\n",
    "# Training set performance\n",
    "pred_tr  = pipe.predict(X_train)\n",
    "proba_tr = pipe.predict_proba(X_train)[:, 1]\n",
    "eval_split(\"Train\", y_train, pred_tr, proba_tr)\n",
    "\n",
    "# Test set performance\n",
    "pred_te  = pipe.predict(X_test)\n",
    "proba_te = pipe.predict_proba(X_test)[:, 1]\n",
    "eval_split(\" Test\", y_test, pred_te, proba_te)\n",
    "\n",
    "# Class distribution check for extreme imbalance\n",
    "print(\"\\nLabel balance -> Train:\", y_train.value_counts().to_dict(),\n",
    "      \"| Test:\", y_test.value_counts().to_dict())"
   ]
  },
  {
   "cell_type": "code",
   "execution_count": null,
   "id": "eee5503f",
   "metadata": {},
   "outputs": [],
   "source": [
    "# ==== To predict data for certain area for next month  ====\n",
    "\n",
    "def predict_next_month(prefix: str):\n",
    "\n",
    "    # Get the most recent record for the given postcode prefix\n",
    "    sub = monthly.loc[monthly[\"PostcodePrefix\"] == prefix].sort_values(\"YearMonth\")\n",
    "    if sub.empty:\n",
    "        return {\"prefix\": prefix, \"error\": \"No data available for this prefix.\"}\n",
    "    row = sub.iloc[-1].copy()  # Latest observation (e.g., 2025-11)\n",
    "\n",
    "    # Calculate the next month's number and update 'month_next' feature\n",
    "    ym = pd.Period(row[\"YearMonth\"], freq=\"M\")\n",
    "    target_ym = ym + 6\n",
    "    row[\"month_next\"] = int(target_ym.month)\n",
    "\n",
    "    # Prepare the feature vector and make prediction\n",
    "    feats = num_feats + cat_small + cat_big\n",
    "    X_new = row[feats].to_frame().T\n",
    "    pred = int(pipe.predict(X_new)[0])                    # 0 = Down, 1 = Up\n",
    "\n",
    "    return {\n",
    "        \"Prefix\": prefix,\n",
    "        \"Pred target month\": str(target_ym),   # Target month to predict (e.g., 2025-12)\n",
    "        \"Model trend\": \"Up\" if pred == 1 else \"Down\",\n",
    "    }\n",
    "\n",
    "def batch_predict_next_month(prefix_list):\n",
    "    return [predict_next_month(p) for p in prefix_list]"
   ]
  },
  {
   "cell_type": "code",
   "execution_count": 26,
   "id": "2d280c6a",
   "metadata": {},
   "outputs": [
    {
     "name": "stdout",
     "output_type": "stream",
     "text": [
      "{'Prefix': 'N1', 'Pred target month': '2026-02', 'Model trend': 'Up'}\n",
      "{'Prefix': 'N6', 'Pred target month': '2026-02', 'Model trend': 'Down'}\n",
      "{'Prefix': 'W2', 'Pred target month': '2026-02', 'Model trend': 'Down'}\n",
      "{'Prefix': 'E14', 'Pred target month': '2026-02', 'Model trend': 'Down'}\n"
     ]
    }
   ],
   "source": [
    "#out = predict_next_month(\"N6\")\n",
    "#print(out)\n",
    "\n",
    "results = batch_predict_next_month([\"N1\", \"N6\", \"W2\", \"E14\"])\n",
    "for r in results:\n",
    "    print(r)\n"
   ]
  }
 ],
 "metadata": {
  "kernelspec": {
   "display_name": "daps",
   "language": "python",
   "name": "python3"
  },
  "language_info": {
   "codemirror_mode": {
    "name": "ipython",
    "version": 3
   },
   "file_extension": ".py",
   "mimetype": "text/x-python",
   "name": "python",
   "nbconvert_exporter": "python",
   "pygments_lexer": "ipython3",
   "version": "3.11.13"
  }
 },
 "nbformat": 4,
 "nbformat_minor": 5
}
